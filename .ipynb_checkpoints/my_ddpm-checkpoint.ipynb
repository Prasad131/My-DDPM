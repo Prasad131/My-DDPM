{
 "cells": [
  {
   "cell_type": "code",
   "execution_count": 22,
   "id": "d2bf986d-6fd1-43cf-9a1b-058c2b01627e",
   "metadata": {},
   "outputs": [],
   "source": [
    "import numpy as np\n",
    "import tensorflow as tf\n",
    "import matplotlib.pyplot as plt\n",
    "from sklearn.utils import shuffle\n",
    "from scipy.stats import entropy\n",
    "import sys"
   ]
  },
  {
   "cell_type": "code",
   "execution_count": 2,
   "id": "014f28ee-88bc-443a-947a-4f3871e0e344",
   "metadata": {},
   "outputs": [],
   "source": [
    "n,T=50000,20\n",
    "batch_size = 128"
   ]
  },
  {
   "cell_type": "code",
   "execution_count": 3,
   "id": "50ea8da5-3b8e-4e45-8f96-ea074441f6ab",
   "metadata": {},
   "outputs": [],
   "source": [
    "betas = np.power(np.linspace(0.1,0.5,T),2)\n",
    "alphas = 1-betas\n",
    "cumprod_alphas = np.cumprod(alphas)\n",
    "sqrt_cumprod_alphas = np.sqrt(cumprod_alphas)\n",
    "sqrt_betas = np.sqrt(betas)\n",
    "sqrt_alphas = np.sqrt(alphas)\n",
    "sqrt_one_minus_cumprod_alphas = np.sqrt(1-cumprod_alphas)"
   ]
  },
  {
   "cell_type": "code",
   "execution_count": 4,
   "id": "916b6c42-8c24-4da3-a3ff-8f0ecbd62222",
   "metadata": {},
   "outputs": [],
   "source": [
    "x0 = np.random.rand(n)\n",
    "x = np.zeros(n*T)\n",
    "t = np.zeros(n*T)\n",
    "y = np.zeros(n*T)\n",
    "for i in range(T):\n",
    "    noise = np.random.randn(n)\n",
    "    x[n*i:n*(i+1)] = sqrt_cumprod_alphas[i]*x0+sqrt_one_minus_cumprod_alphas[i]*noise\n",
    "    t[n*i:n*(i+1)] = i+1\n",
    "    y[n*i:n*(i+1)] = noise"
   ]
  },
  {
   "cell_type": "code",
   "execution_count": 5,
   "id": "b0f3c67c-59bc-403c-8737-4b09b31aa30b",
   "metadata": {},
   "outputs": [
    {
     "data": {
      "text/plain": [
       "(1000000, 1)"
      ]
     },
     "execution_count": 5,
     "metadata": {},
     "output_type": "execute_result"
    }
   ],
   "source": [
    "x = np.reshape(x,(n*T,1))\n",
    "x.shape"
   ]
  },
  {
   "cell_type": "code",
   "execution_count": 6,
   "id": "f7bdf589-d942-4e58-ae95-d167fbd817ca",
   "metadata": {},
   "outputs": [],
   "source": [
    "# i = 9\n",
    "# _,ax = plt.subplots(1,3,figsize=(15,5))\n",
    "# ax[0].hist(x[n*i:n*(i+1)],bins=25)\n",
    "# ax[0].title.set_text('x - '+str(i+1))\n",
    "# ax[1].hist(y[n*i:n*(i+1)],bins=25)\n",
    "# ax[1].title.set_text('y - '+str(i+1))\n",
    "# ax[2].scatter(x[n*i:n*(i+1)],y[n*i:n*(i+1)])\n",
    "# ax[2].title.set_text('x vs y - '+str(i+1))\n",
    "# plt.show()"
   ]
  },
  {
   "cell_type": "code",
   "execution_count": 7,
   "id": "58d551e9-6589-4e6f-a957-d76d56d85aee",
   "metadata": {},
   "outputs": [
    {
     "data": {
      "text/plain": [
       "0.01587482434898048"
      ]
     },
     "execution_count": 7,
     "metadata": {},
     "output_type": "execute_result"
    }
   ],
   "source": [
    "y_pred = x[n*(T-1):n*T]\n",
    "y_true = np.random.randn(n)\n",
    "bin_edges = np.linspace(-3,3,25)\n",
    "y_pred = np.histogram(y_pred,bins=bin_edges)\n",
    "y_true = np.histogram(y_true,bins=bin_edges)\n",
    "entropy(y_true[0],y_pred[0])"
   ]
  },
  {
   "cell_type": "code",
   "execution_count": 8,
   "id": "c0573e3d-ff46-44c2-a7e9-a1db0f263681",
   "metadata": {},
   "outputs": [],
   "source": [
    "x,t,y = shuffle(x,t,y,random_state=0)"
   ]
  },
  {
   "cell_type": "code",
   "execution_count": 9,
   "id": "b1ffe273-3a0a-43ad-9b94-b453ed9c760a",
   "metadata": {},
   "outputs": [
    {
     "name": "stderr",
     "output_type": "stream",
     "text": [
      "2022-01-02 17:08:07.164325: I tensorflow/core/common_runtime/process_util.cc:146] Creating new thread pool with default inter op setting: 2. Tune using inter_op_parallelism_threads for best performance.\n"
     ]
    }
   ],
   "source": [
    "input_x = tf.keras.layers.Input(shape=(1,1,))\n",
    "input_t = tf.keras.layers.Input(shape=(1,))\n",
    "emb = tf.keras.layers.Embedding(T+1,64)(input_t)\n",
    "dense_emb = tf.keras.layers.Dense(20,activation=tf.keras.layers.LeakyReLU(alpha=0.1))(emb)\n",
    "concat = tf.keras.layers.Concatenate(axis=-1)([input_x,dense_emb])\n",
    "dense_1 = tf.keras.layers.Dense(10,activation=tf.keras.layers.LeakyReLU(alpha=0.2))(concat)\n",
    "output = tf.keras.layers.Dense(1,activation=tf.keras.layers.LeakyReLU(alpha=0.3))(dense_1)\n",
    "model = tf.keras.Model([input_x,input_t],output)"
   ]
  },
  {
   "cell_type": "code",
   "execution_count": 10,
   "id": "880ecbd7-6b7b-4a91-bbe6-f5e3e90855cf",
   "metadata": {
    "tags": []
   },
   "outputs": [],
   "source": [
    "model.compile(optimizer='Adam', loss='mse')\n",
    "callback = tf.keras.callbacks.EarlyStopping(monitor='loss', patience=3)"
   ]
  },
  {
   "cell_type": "code",
   "execution_count": 11,
   "id": "bad6691e-67f9-423f-9cfa-a1bc6e41f72d",
   "metadata": {},
   "outputs": [
    {
     "name": "stdout",
     "output_type": "stream",
     "text": [
      "   66/31250 [..............................] - ETA: 48s - loss: 1.0242  "
     ]
    },
    {
     "name": "stderr",
     "output_type": "stream",
     "text": [
      "\n",
      "User settings:\n",
      "\n",
      "   KMP_AFFINITY=granularity=fine,verbose,compact,1,0\n",
      "   KMP_BLOCKTIME=0\n",
      "   KMP_DUPLICATE_LIB_OK=True\n",
      "   KMP_INIT_AT_FORK=FALSE\n",
      "   KMP_SETTINGS=1\n",
      "   OMP_NUM_THREADS=2\n",
      "\n",
      "Effective settings:\n",
      "\n",
      "   KMP_ABORT_DELAY=0\n",
      "   KMP_ADAPTIVE_LOCK_PROPS='1,1024'\n",
      "   KMP_ALIGN_ALLOC=64\n",
      "   KMP_ALL_THREADPRIVATE=128\n",
      "   KMP_ATOMIC_MODE=2\n",
      "   KMP_BLOCKTIME=0\n",
      "   KMP_CPUINFO_FILE: value is not defined\n",
      "   KMP_DETERMINISTIC_REDUCTION=false\n",
      "   KMP_DEVICE_THREAD_LIMIT=2147483647\n",
      "   KMP_DISP_NUM_BUFFERS=7\n",
      "   KMP_DUPLICATE_LIB_OK=true\n",
      "   KMP_ENABLE_TASK_THROTTLING=true\n",
      "   KMP_FORCE_REDUCTION: value is not defined\n",
      "   KMP_FOREIGN_THREADS_THREADPRIVATE=true\n",
      "   KMP_FORKJOIN_BARRIER='2,2'\n",
      "   KMP_FORKJOIN_BARRIER_PATTERN='hyper,hyper'\n",
      "   KMP_GTID_MODE=3\n",
      "   KMP_HANDLE_SIGNALS=false\n",
      "   KMP_HOT_TEAMS_MAX_LEVEL=1\n",
      "   KMP_HOT_TEAMS_MODE=0\n",
      "   KMP_INIT_AT_FORK=true\n",
      "   KMP_LIBRARY=throughput\n",
      "   KMP_LOCK_KIND=queuing\n",
      "   KMP_MALLOC_POOL_INCR=1M\n",
      "   KMP_NUM_LOCKS_IN_BLOCK=1\n",
      "   KMP_PLAIN_BARRIER='2,2'\n",
      "   KMP_PLAIN_BARRIER_PATTERN='hyper,hyper'\n",
      "   KMP_REDUCTION_BARRIER='1,1'\n",
      "   KMP_REDUCTION_BARRIER_PATTERN='hyper,hyper'\n",
      "   KMP_SCHEDULE='static,balanced;guided,iterative'\n",
      "   KMP_SETTINGS=true\n",
      "   KMP_SPIN_BACKOFF_PARAMS='4096,100'\n",
      "   KMP_STACKOFFSET=64\n",
      "   KMP_STACKPAD=0\n",
      "   KMP_STACKSIZE=8M\n",
      "   KMP_STORAGE_MAP=false\n",
      "   KMP_TASKING=2\n",
      "   KMP_TASKLOOP_MIN_TASKS=0\n",
      "   KMP_TASK_STEALING_CONSTRAINT=1\n",
      "   KMP_TEAMS_THREAD_LIMIT=2\n",
      "   KMP_TOPOLOGY_METHOD=all\n",
      "   KMP_USE_YIELD=1\n",
      "   KMP_VERSION=false\n",
      "   KMP_WARNINGS=true\n",
      "   OMP_AFFINITY_FORMAT='OMP: pid %P tid %i thread %n bound to OS proc set {%A}'\n",
      "   OMP_ALLOCATOR=omp_default_mem_alloc\n",
      "   OMP_CANCELLATION=false\n",
      "   OMP_DEFAULT_DEVICE=0\n",
      "   OMP_DISPLAY_AFFINITY=false\n",
      "   OMP_DISPLAY_ENV=false\n",
      "   OMP_DYNAMIC=false\n",
      "   OMP_MAX_ACTIVE_LEVELS=1\n",
      "   OMP_MAX_TASK_PRIORITY=0\n",
      "   OMP_NESTED: deprecated; max-active-levels-var=1\n",
      "   OMP_NUM_THREADS='2'\n",
      "   OMP_PLACES: value is not defined\n",
      "   OMP_PROC_BIND='intel'\n",
      "   OMP_SCHEDULE='static'\n",
      "   OMP_STACKSIZE=8M\n",
      "   OMP_TARGET_OFFLOAD=DEFAULT\n",
      "   OMP_THREAD_LIMIT=2147483647\n",
      "   OMP_WAIT_POLICY=PASSIVE\n",
      "   KMP_AFFINITY='verbose,warnings,respect,granularity=fine,compact,1,0'\n",
      "\n",
      "OMP: Info #211: KMP_AFFINITY: decoding x2APIC ids.\n",
      "OMP: Info #209: KMP_AFFINITY: Affinity capable, using global cpuid leaf 11 info\n",
      "OMP: Info #154: KMP_AFFINITY: Initial OS proc set respected: 0,1\n",
      "OMP: Info #156: KMP_AFFINITY: 2 available OS procs\n",
      "OMP: Info #157: KMP_AFFINITY: Uniform topology\n",
      "OMP: Info #179: KMP_AFFINITY: 1 packages x 1 cores/pkg x 2 threads/core (1 total cores)\n",
      "OMP: Info #213: KMP_AFFINITY: OS proc to physical thread map:\n",
      "OMP: Info #171: KMP_AFFINITY: OS proc 0 maps to package 0 thread 0 \n",
      "OMP: Info #171: KMP_AFFINITY: OS proc 1 maps to package 0 thread 1 \n",
      "OMP: Info #249: KMP_AFFINITY: pid 1370 tid 1716 thread 0 bound to OS proc set 0\n",
      "OMP: Info #249: KMP_AFFINITY: pid 1370 tid 1717 thread 1 bound to OS proc set 1\n"
     ]
    },
    {
     "name": "stdout",
     "output_type": "stream",
     "text": [
      "31250/31250 [==============================] - 46s 1ms/step - loss: 0.9998\n"
     ]
    }
   ],
   "source": [
    "history = model.fit(x=[x,t],y=y)#,batch_size=128,epochs=50,callbacks=[callback])"
   ]
  },
  {
   "cell_type": "code",
   "execution_count": 12,
   "id": "47008f98-efaa-4c7b-a8ff-288557b6c99e",
   "metadata": {
    "tags": []
   },
   "outputs": [
    {
     "data": {
      "image/png": "[encoded data removed]",
      "text/plain": [
       "<Figure size 432x288 with 1 Axes>"
      ]
     },
     "metadata": {
      "needs_background": "light"
     },
     "output_type": "display_data"
    }
   ],
   "source": [
    "plt.plot(history.history['loss'])\n",
    "plt.show()"
   ]
  },
  {
   "cell_type": "code",
   "execution_count": 13,
   "id": "561293ac-0c11-439c-97fa-952a1194e725",
   "metadata": {},
   "outputs": [],
   "source": [
    "test_size = n\n",
    "x_pred = np.zeros(test_size*T)\n",
    "x_pred[test_size*(T-1):test_size*(T)] = np.random.randn(test_size)\n",
    "x_pred = np.reshape(x_pred,(test_size*(T),1))"
   ]
  },
  {
   "cell_type": "code",
   "execution_count": 23,
   "id": "3272c6da-7b3d-4e8a-80ee-04728720e5bc",
   "metadata": {},
   "outputs": [
    {
     "name": "stdout",
     "output_type": "stream",
     "text": [
      "[=                   ] 5%%"
     ]
    }
   ],
   "source": [
    "for i in range(T-1,0,-1):\n",
    "    e = model.predict([x_pred[test_size*(i):test_size*(i+1)],i*np.ones(test_size)])\n",
    "    x_pred[test_size*(i-1):test_size*(i),0] = (x_pred[test_size*(i):test_size*(i+1),0]-betas[i-1]*e[:,0,0]/sqrt_one_minus_cumprod_alphas[i-1])/sqrt_alphas[i-1]+np.random.randn(test_size,1)[0]*sqrt_betas[i-1]\n",
    "    sys.stdout.write('\\r')\n",
    "    sys.stdout.write(\"[%-20s] %d%%\" % ('='*(T-i), 5*(T-i)))\n",
    "    sys.stdout.flush()"
   ]
  },
  {
   "cell_type": "code",
   "execution_count": 19,
   "id": "0bfc2628-99cc-489d-a15b-0d008a0c4942",
   "metadata": {},
   "outputs": [],
   "source": [
    "# _,ax = plt.subplots(2,5,figsize=(25,10))\n",
    "# for i in range(0,5):\n",
    "#     ax[0,i].hist(x_pred[test_size*(i):test_size*(i+1),0], bins=25)\n",
    "#     ax[0,i].title.set_text(str(i))\n",
    "# for i in range(5,10):\n",
    "#     ax[1,i-5].hist(x_pred[test_size*(i):test_size*(i+1),0], bins=25)\n",
    "#     ax[1,i-5].title.set_text(str(i))\n",
    "# plt.show()"
   ]
  },
  {
   "cell_type": "code",
   "execution_count": 24,
   "id": "354796e0-a70f-443c-94fd-f1421602f4f3",
   "metadata": {},
   "outputs": [
    {
     "data": {
      "image/png": "[encoded data removed]",
      "text/plain": [
       "<Figure size 432x288 with 1 Axes>"
      ]
     },
     "metadata": {
      "needs_background": "light"
     },
     "output_type": "display_data"
    }
   ],
   "source": [
    "plt_x,plt_y = [],[]\n",
    "# y_pred = np.histogram(x_pred[0:test_size,0],bins=bin_edges)\n",
    "# y_true = np.histogram(x0,bins=bin_edges)\n",
    "# plt_y.append(entropy(y_true[0],y_pred[0]))\n",
    "# plt_x.append(0)\n",
    "for i in range(T):\n",
    "    y_pred = np.histogram(x_pred[test_size*(i+1):test_size*(i+2),0],bins=bin_edges)\n",
    "    y_true = np.histogram(x[test_size*(i):test_size*(i+1)],bins=bin_edges)\n",
    "    plt_y.append(entropy(y_true[0],y_pred[0]))\n",
    "    plt_x.append(i+1)\n",
    "plt.scatter(plt_x,plt_y)\n",
    "plt.show()"
   ]
  },
  {
   "cell_type": "code",
   "execution_count": null,
   "id": "e90eae37-6e24-45d3-9438-b56c1a6f5dbe",
   "metadata": {},
   "outputs": [],
   "source": []
  }
 ],
 "metadata": {
  "environment": {
   "kernel": "python3",
   "name": "tf2-cpu.2-7.m87",
   "type": "gcloud",
   "uri": "gcr.io/deeplearning-platform-release/tf2-cpu.2-7:m87"
  },
  "kernelspec": {
   "display_name": "Python 3",
   "language": "python",
   "name": "python3"
  },
  "language_info": {
   "codemirror_mode": {
    "name": "ipython",
    "version": 3
   },
   "file_extension": ".py",
   "mimetype": "text/x-python",
   "name": "python",
   "nbconvert_exporter": "python",
   "pygments_lexer": "ipython3",
   "version": "3.7.12"
  }
 },
 "nbformat": 4,
 "nbformat_minor": 5
}
