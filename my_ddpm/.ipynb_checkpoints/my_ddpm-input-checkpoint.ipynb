{
 "cells": [
  {
   "cell_type": "code",
   "execution_count": 1,
   "id": "d2bf986d-6fd1-43cf-9a1b-058c2b01627e",
   "metadata": {},
   "outputs": [],
   "source": [
    "import numpy as np\n",
    "import tensorflow as tf\n",
    "import matplotlib.pyplot as plt\n",
    "from sklearn.utils import shuffle"
   ]
  },
  {
   "cell_type": "code",
   "execution_count": 2,
   "id": "014f28ee-88bc-443a-947a-4f3871e0e344",
   "metadata": {},
   "outputs": [],
   "source": [
    "n,T=10000,500\n",
    "batch_size = 128"
   ]
  },
  {
   "cell_type": "code",
   "execution_count": 3,
   "id": "50ea8da5-3b8e-4e45-8f96-ea074441f6ab",
   "metadata": {},
   "outputs": [],
   "source": [
    "betas = np.linspace(0.001,0.005,T)\n",
    "alphas = 1-betas\n",
    "cumprod_alphas = np.cumprod(alphas)\n",
    "sqrt_cumprod_alphas = np.sqrt(cumprod_alphas)\n",
    "sqrt_betas = np.sqrt(betas)\n",
    "sqrt_alphas = np.sqrt(alphas)\n",
    "sqrt_one_minus_alphas = np.sqrt(1-cumprod_alphas)"
   ]
  },
  {
   "cell_type": "code",
   "execution_count": 4,
   "id": "916b6c42-8c24-4da3-a3ff-8f0ecbd62222",
   "metadata": {},
   "outputs": [],
   "source": [
    "x0 = np.random.rand(n)\n",
    "x = np.zeros(n*T)\n",
    "t = np.zeros(n*T)\n",
    "y = np.zeros(n*T)\n",
    "noise = np.random.randn(n)\n",
    "for i in range(T):\n",
    "    noise = np.random.randn(n)\n",
    "    x[n*i:n*(i+1)] = sqrt_alphas[i]*x0+sqrt_one_minus_alphas[i]*noise\n",
    "    t[n*i:n*(i+1)] = i+1\n",
    "    y[n*i:n*(i+1)] = noise"
   ]
  },
  {
   "cell_type": "code",
   "execution_count": 5,
   "id": "b0f3c67c-59bc-403c-8737-4b09b31aa30b",
   "metadata": {},
   "outputs": [
    {
     "data": {
      "text/plain": [
       "(5000000, 1)"
      ]
     },
     "execution_count": 5,
     "metadata": {},
     "output_type": "execute_result"
    }
   ],
   "source": [
    "x = np.reshape(x,(n*T,1))\n",
    "x.shape"
   ]
  },
  {
   "cell_type": "code",
   "execution_count": 6,
   "id": "f7bdf589-d942-4e58-ae95-d167fbd817ca",
   "metadata": {},
   "outputs": [],
   "source": [
    "# i = 499\n",
    "# plt.scatter(x[n*(i):n*(i+1)],y[n*i:n*(i+1)])\n",
    "# plt.show()"
   ]
  },
  {
   "cell_type": "code",
   "execution_count": 7,
   "id": "c0573e3d-ff46-44c2-a7e9-a1db0f263681",
   "metadata": {},
   "outputs": [],
   "source": [
    "x,t,y = shuffle(x,t,y,random_state=0)"
   ]
  },
  {
   "cell_type": "code",
   "execution_count": 8,
   "id": "b1ffe273-3a0a-43ad-9b94-b453ed9c760a",
   "metadata": {},
   "outputs": [
    {
     "name": "stderr",
     "output_type": "stream",
     "text": [
      "2022-01-01 04:43:47.208619: I tensorflow/core/common_runtime/process_util.cc:146] Creating new thread pool with default inter op setting: 2. Tune using inter_op_parallelism_threads for best performance.\n"
     ]
    }
   ],
   "source": [
    "input_x = tf.keras.layers.Input(shape=(1,1,))\n",
    "input_t = tf.keras.layers.Input(shape=(1,))\n",
    "emb = tf.keras.layers.Embedding(T+1,64)(input_t)\n",
    "dense_emb = tf.keras.layers.Dense(20,activation=tf.keras.layers.LeakyReLU(alpha=0.1))(emb)\n",
    "concat = tf.keras.layers.Concatenate(axis=-1)([input_x,dense_emb])\n",
    "dense_1 = tf.keras.layers.Dense(10,activation=tf.keras.layers.LeakyReLU(alpha=0.2))(concat)\n",
    "output = tf.keras.layers.Dense(1,activation=tf.keras.layers.LeakyReLU(alpha=0.3))(dense_1)\n",
    "model = tf.keras.Model([input_x,input_t],output)"
   ]
  },
  {
   "cell_type": "code",
   "execution_count": 9,
   "id": "880ecbd7-6b7b-4a91-bbe6-f5e3e90855cf",
   "metadata": {
    "tags": []
   },
   "outputs": [],
   "source": [
    "model.compile(optimizer='Adam', loss='mse', metrics=[tf.keras.metrics.KLDivergence()])\n",
    "callback = tf.keras.callbacks.EarlyStopping(monitor='loss', patience=3)"
   ]
  },
  {
   "cell_type": "code",
   "execution_count": 10,
   "id": "33a02c3d-9e36-4335-9b6c-977c2af1ec10",
   "metadata": {},
   "outputs": [
    {
     "name": "stdout",
     "output_type": "stream",
     "text": [
      "Model: \"model\"\n",
      "__________________________________________________________________________________________________\n",
      " Layer (type)                   Output Shape         Param #     Connected to                     \n",
      "==================================================================================================\n",
      " input_2 (InputLayer)           [(None, 1)]          0           []                               \n",
      "                                                                                                  \n",
      " embedding (Embedding)          (None, 1, 64)        32064       ['input_2[0][0]']                \n",
      "                                                                                                  \n",
      " input_1 (InputLayer)           [(None, 1, 1)]       0           []                               \n",
      "                                                                                                  \n",
      " dense (Dense)                  (None, 1, 20)        1300        ['embedding[0][0]']              \n",
      "                                                                                                  \n",
      " concatenate (Concatenate)      (None, 1, 21)        0           ['input_1[0][0]',                \n",
      "                                                                  'dense[0][0]']                  \n",
      "                                                                                                  \n",
      " dense_1 (Dense)                (None, 1, 10)        220         ['concatenate[0][0]']            \n",
      "                                                                                                  \n",
      " dense_2 (Dense)                (None, 1, 1)         11          ['dense_1[0][0]']                \n",
      "                                                                                                  \n",
      "==================================================================================================\n",
      "Total params: 33,595\n",
      "Trainable params: 33,595\n",
      "Non-trainable params: 0\n",
      "__________________________________________________________________________________________________\n"
     ]
    }
   ],
   "source": [
    "model.summary()"
   ]
  },
  {
   "cell_type": "code",
   "execution_count": null,
   "id": "bad6691e-67f9-423f-9cfa-a1bc6e41f72d",
   "metadata": {},
   "outputs": [
    {
     "name": "stdout",
     "output_type": "stream",
     "text": [
      "Epoch 1/50\n",
      "   54/39063 [..............................] - ETA: 1:52 - loss: 1.0165 - kullback_leibler_divergence: 454.0391 "
     ]
    },
    {
     "name": "stderr",
     "output_type": "stream",
     "text": [
      "\n",
      "User settings:\n",
      "\n",
      "   KMP_AFFINITY=granularity=fine,verbose,compact,1,0\n",
      "   KMP_BLOCKTIME=0\n",
      "   KMP_DUPLICATE_LIB_OK=True\n",
      "   KMP_INIT_AT_FORK=FALSE\n",
      "   KMP_SETTINGS=1\n",
      "   OMP_NUM_THREADS=2\n",
      "\n",
      "Effective settings:\n",
      "\n",
      "   KMP_ABORT_DELAY=0\n",
      "   KMP_ADAPTIVE_LOCK_PROPS='1,1024'\n",
      "   KMP_ALIGN_ALLOC=64\n",
      "   KMP_ALL_THREADPRIVATE=128\n",
      "   KMP_ATOMIC_MODE=2\n",
      "   KMP_BLOCKTIME=0\n",
      "   KMP_CPUINFO_FILE: value is not defined\n",
      "   KMP_DETERMINISTIC_REDUCTION=false\n",
      "   KMP_DEVICE_THREAD_LIMIT=2147483647\n",
      "   KMP_DISP_NUM_BUFFERS=7\n",
      "   KMP_DUPLICATE_LIB_OK=true\n",
      "   KMP_ENABLE_TASK_THROTTLING=true\n",
      "   KMP_FORCE_REDUCTION: value is not defined\n",
      "   KMP_FOREIGN_THREADS_THREADPRIVATE=true\n",
      "   KMP_FORKJOIN_BARRIER='2,2'\n",
      "   KMP_FORKJOIN_BARRIER_PATTERN='hyper,hyper'\n",
      "   KMP_GTID_MODE=3\n",
      "   KMP_HANDLE_SIGNALS=false\n",
      "   KMP_HOT_TEAMS_MAX_LEVEL=1\n",
      "   KMP_HOT_TEAMS_MODE=0\n",
      "   KMP_INIT_AT_FORK=true\n",
      "   KMP_LIBRARY=throughput\n",
      "   KMP_LOCK_KIND=queuing\n",
      "   KMP_MALLOC_POOL_INCR=1M\n",
      "   KMP_NUM_LOCKS_IN_BLOCK=1\n",
      "   KMP_PLAIN_BARRIER='2,2'\n",
      "   KMP_PLAIN_BARRIER_PATTERN='hyper,hyper'\n",
      "   KMP_REDUCTION_BARRIER='1,1'\n",
      "   KMP_REDUCTION_BARRIER_PATTERN='hyper,hyper'\n",
      "   KMP_SCHEDULE='static,balanced;guided,iterative'\n",
      "   KMP_SETTINGS=true\n",
      "   KMP_SPIN_BACKOFF_PARAMS='4096,100'\n",
      "   KMP_STACKOFFSET=64\n",
      "   KMP_STACKPAD=0\n",
      "   KMP_STACKSIZE=8M\n",
      "   KMP_STORAGE_MAP=false\n",
      "   KMP_TASKING=2\n",
      "   KMP_TASKLOOP_MIN_TASKS=0\n",
      "   KMP_TASK_STEALING_CONSTRAINT=1\n",
      "   KMP_TEAMS_THREAD_LIMIT=2\n",
      "   KMP_TOPOLOGY_METHOD=all\n",
      "   KMP_USE_YIELD=1\n",
      "   KMP_VERSION=false\n",
      "   KMP_WARNINGS=true\n",
      "   OMP_AFFINITY_FORMAT='OMP: pid %P tid %i thread %n bound to OS proc set {%A}'\n",
      "   OMP_ALLOCATOR=omp_default_mem_alloc\n",
      "   OMP_CANCELLATION=false\n",
      "   OMP_DEFAULT_DEVICE=0\n",
      "   OMP_DISPLAY_AFFINITY=false\n",
      "   OMP_DISPLAY_ENV=false\n",
      "   OMP_DYNAMIC=false\n",
      "   OMP_MAX_ACTIVE_LEVELS=1\n",
      "   OMP_MAX_TASK_PRIORITY=0\n",
      "   OMP_NESTED: deprecated; max-active-levels-var=1\n",
      "   OMP_NUM_THREADS='2'\n",
      "   OMP_PLACES: value is not defined\n",
      "   OMP_PROC_BIND='intel'\n",
      "   OMP_SCHEDULE='static'\n",
      "   OMP_STACKSIZE=8M\n",
      "   OMP_TARGET_OFFLOAD=DEFAULT\n",
      "   OMP_THREAD_LIMIT=2147483647\n",
      "   OMP_WAIT_POLICY=PASSIVE\n",
      "   KMP_AFFINITY='verbose,warnings,respect,granularity=fine,compact,1,0'\n",
      "\n",
      "OMP: Info #211: KMP_AFFINITY: decoding x2APIC ids.\n",
      "OMP: Info #209: KMP_AFFINITY: Affinity capable, using global cpuid leaf 11 info\n",
      "OMP: Info #154: KMP_AFFINITY: Initial OS proc set respected: 0,1\n",
      "OMP: Info #156: KMP_AFFINITY: 2 available OS procs\n",
      "OMP: Info #157: KMP_AFFINITY: Uniform topology\n",
      "OMP: Info #179: KMP_AFFINITY: 1 packages x 1 cores/pkg x 2 threads/core (1 total cores)\n",
      "OMP: Info #213: KMP_AFFINITY: OS proc to physical thread map:\n",
      "OMP: Info #171: KMP_AFFINITY: OS proc 0 maps to package 0 thread 0 \n",
      "OMP: Info #171: KMP_AFFINITY: OS proc 1 maps to package 0 thread 1 \n",
      "OMP: Info #249: KMP_AFFINITY: pid 5921 tid 5946 thread 0 bound to OS proc set 0\n",
      "OMP: Info #249: KMP_AFFINITY: pid 5921 tid 5955 thread 1 bound to OS proc set 1\n",
      "OMP: Info #249: KMP_AFFINITY: pid 5921 tid 5947 thread 2 bound to OS proc set 0\n",
      "OMP: Info #249: KMP_AFFINITY: pid 5921 tid 5956 thread 3 bound to OS proc set 1\n"
     ]
    },
    {
     "name": "stdout",
     "output_type": "stream",
     "text": [
      "39063/39063 [==============================] - 87s 2ms/step - loss: 1.0000 - kullback_leibler_divergence: 561.9151\n",
      "Epoch 2/50\n",
      "39063/39063 [==============================] - 85s 2ms/step - loss: 0.9999 - kullback_leibler_divergence: 539.8879\n",
      "Epoch 3/50\n",
      "14846/39063 [==========>...................] - ETA: 53s - loss: 1.0005 - kullback_leibler_divergence: 525.1945"
     ]
    }
   ],
   "source": [
    "history = model.fit(x=[x,t],y=y,batch_size=128,epochs=50,callbacks=[callback])"
   ]
  },
  {
   "cell_type": "code",
   "execution_count": null,
   "id": "47008f98-efaa-4c7b-a8ff-288557b6c99e",
   "metadata": {
    "tags": []
   },
   "outputs": [],
   "source": [
    "plt.plot(history.history['loss'])\n",
    "plt.plot(history.history['kullback_leibler_divergence'])\n",
    "plt.show()"
   ]
  },
  {
   "cell_type": "code",
   "execution_count": null,
   "id": "561293ac-0c11-439c-97fa-952a1194e725",
   "metadata": {},
   "outputs": [],
   "source": [
    "test_size = 1000\n",
    "u = np.random.randn(test_size,1)\n",
    "u = np.reshape(u,(test_size,1))"
   ]
  },
  {
   "cell_type": "code",
   "execution_count": null,
   "id": "3272c6da-7b3d-4e8a-80ee-04728720e5bc",
   "metadata": {},
   "outputs": [],
   "source": [
    "for i in range(T-1,-1,-1):\n",
    "    e = model.predict([u,(i+1)*np.ones(test_size)])\n",
    "    u[:,0] = (u[:,0]-betas[i]*e[:,0,0]/sqrt_one_minus_alphas[i])/sqrt_alphas[i]+np.random.randn(test_size,1)[0]*sqrt_betas[i]"
   ]
  },
  {
   "cell_type": "code",
   "execution_count": null,
   "id": "d70d1e64-ce0c-48d5-a697-e5827328d67f",
   "metadata": {},
   "outputs": [],
   "source": [
    "print(e.shape,u.shape)"
   ]
  },
  {
   "cell_type": "code",
   "execution_count": null,
   "id": "0bfc2628-99cc-489d-a15b-0d008a0c4942",
   "metadata": {},
   "outputs": [],
   "source": [
    "plt.hist(u, bins=25)\n",
    "plt.savefig('answer.jpg')\n",
    "plt.show()"
   ]
  },
  {
   "cell_type": "code",
   "execution_count": null,
   "id": "e311e209-2607-4aa7-918d-74c2405abfa7",
   "metadata": {},
   "outputs": [],
   "source": [
    "u = model.predict([x,t])\n",
    "u.shape"
   ]
  },
  {
   "cell_type": "code",
   "execution_count": null,
   "id": "3c335a55-79ae-48f5-a2b7-8209d1628ab4",
   "metadata": {},
   "outputs": [],
   "source": [
    "plt.hist(u[:,0,0],bins=25)\n",
    "plt.show()"
   ]
  },
  {
   "cell_type": "code",
   "execution_count": null,
   "id": "28412cd5-a9dc-4334-a02f-ddfd65048ced",
   "metadata": {},
   "outputs": [],
   "source": [
    "plt.hist(y,bins=25)\n",
    "plt.show()"
   ]
  },
  {
   "cell_type": "code",
   "execution_count": null,
   "id": "a9768eea-406e-4bd1-9da6-50c850ba4fa3",
   "metadata": {},
   "outputs": [],
   "source": []
  }
 ],
 "metadata": {
  "environment": {
   "kernel": "python3",
   "name": "tf2-cpu.2-7.m87",
   "type": "gcloud",
   "uri": "gcr.io/deeplearning-platform-release/tf2-cpu.2-7:m87"
  },
  "kernelspec": {
   "display_name": "Python 3",
   "language": "python",
   "name": "python3"
  },
  "language_info": {
   "codemirror_mode": {
    "name": "ipython",
    "version": 3
   },
   "file_extension": ".py",
   "mimetype": "text/x-python",
   "name": "python",
   "nbconvert_exporter": "python",
   "pygments_lexer": "ipython3",
   "version": "3.7.12"
  }
 },
 "nbformat": 4,
 "nbformat_minor": 5
}
