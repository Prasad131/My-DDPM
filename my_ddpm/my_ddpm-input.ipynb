{
 "cells": [
  {
   "cell_type": "code",
   "execution_count": 1,
   "id": "d2bf986d-6fd1-43cf-9a1b-058c2b01627e",
   "metadata": {},
   "outputs": [],
   "source": [
    "import numpy as np\n",
    "import tensorflow as tf\n",
    "import matplotlib.pyplot as plt\n",
    "from sklearn.utils import shuffle"
   ]
  },
  {
   "cell_type": "code",
   "execution_count": 2,
   "id": "014f28ee-88bc-443a-947a-4f3871e0e344",
   "metadata": {},
   "outputs": [],
   "source": [
    "n,T=10000,500\n",
    "batch_size = 128"
   ]
  },
  {
   "cell_type": "code",
   "execution_count": 3,
   "id": "50ea8da5-3b8e-4e45-8f96-ea074441f6ab",
   "metadata": {},
   "outputs": [],
   "source": [
    "betas = np.linspace(0.001,0.005,T)\n",
    "alphas = 1-betas\n",
    "cumprod_alphas = np.cumprod(alphas)\n",
    "sqrt_cumprod_alphas = np.sqrt(cumprod_alphas)\n",
    "sqrt_betas = np.sqrt(betas)\n",
    "sqrt_alphas = np.sqrt(alphas)\n",
    "sqrt_one_minus_alphas = np.sqrt(1-cumprod_alphas)"
   ]
  },
  {
   "cell_type": "code",
   "execution_count": 14,
   "id": "916b6c42-8c24-4da3-a3ff-8f0ecbd62222",
   "metadata": {},
   "outputs": [],
   "source": [
    "x0 = np.random.rand(n)\n",
    "x = np.zeros(n*T)\n",
    "t = np.zeros(n*T)\n",
    "y = np.zeros(n*T)\n",
    "noise = np.random.randn(n)\n",
    "for i in range(T):\n",
    "    noise = np.random.randn(n)\n",
    "    x[n*i:n*(i+1)] = sqrt_alphas[i]*x0+sqrt_one_minus_alphas[i]*noise\n",
    "    t[n*i:n*(i+1)] = i+1\n",
    "    y[n*i:n*(i+1)] = noise"
   ]
  },
  {
   "cell_type": "code",
   "execution_count": 31,
   "id": "f7bdf589-d942-4e58-ae95-d167fbd817ca",
   "metadata": {},
   "outputs": [
    {
     "data": {
      "image/png": "[encoded data removed]",
      "text/plain": [
       "<Figure size 432x288 with 1 Axes>"
      ]
     },
     "metadata": {
      "needs_background": "light"
     },
     "output_type": "display_data"
    }
   ],
   "source": [
    "i = 499\n",
    "plt.scatter(x[n*(i):n*(i+1)],y[n*i:n*(i+1)])\n",
    "plt.show()"
   ]
  },
  {
   "cell_type": "code",
   "execution_count": 23,
   "id": "89676692-32db-4b1c-92d7-c053e54951ce",
   "metadata": {},
   "outputs": [
    {
     "name": "stdout",
     "output_type": "stream",
     "text": [
      "inf\n"
     ]
    }
   ],
   "source": [
    "from scipy.special import rel_entr\n",
    "y_true = np.random.randn(n)\n",
    "y_pred = x[n*(T-1):n*(T)]\n",
    "print(np.sum(rel_entr(y_pred,y_true)))"
   ]
  },
  {
   "cell_type": "code",
   "execution_count": 25,
   "id": "c81f0f32-b929-4e77-a070-30381ecf1999",
   "metadata": {},
   "outputs": [
    {
     "data": {
      "image/png": "[encoded data removed]",
      "text/plain": [
       "<Figure size 432x288 with 1 Axes>"
      ]
     },
     "metadata": {
      "needs_background": "light"
     },
     "output_type": "display_data"
    }
   ],
   "source": [
    "plt.hist(y_pred,bins=25)\n",
    "plt.show()"
   ]
  },
  {
   "cell_type": "code",
   "execution_count": 26,
   "id": "4f3e0100-e778-4dff-ac8d-55a89577ed51",
   "metadata": {},
   "outputs": [
    {
     "data": {
      "image/png": "[encoded data removed]",
      "text/plain": [
       "<Figure size 432x288 with 1 Axes>"
      ]
     },
     "metadata": {
      "needs_background": "light"
     },
     "output_type": "display_data"
    }
   ],
   "source": [
    "plt.hist(y_true,bins=25)\n",
    "plt.show()"
   ]
  },
  {
   "cell_type": "code",
   "execution_count": null,
   "id": "24e2b375-9778-4bbd-9d88-a88c4ad85b2a",
   "metadata": {},
   "outputs": [],
   "source": []
  }
 ],
 "metadata": {
  "environment": {
   "kernel": "python3",
   "name": "tf2-cpu.2-7.m87",
   "type": "gcloud",
   "uri": "gcr.io/deeplearning-platform-release/tf2-cpu.2-7:m87"
  },
  "kernelspec": {
   "display_name": "Python 3",
   "language": "python",
   "name": "python3"
  },
  "language_info": {
   "codemirror_mode": {
    "name": "ipython",
    "version": 3
   },
   "file_extension": ".py",
   "mimetype": "text/x-python",
   "name": "python",
   "nbconvert_exporter": "python",
   "pygments_lexer": "ipython3",
   "version": "3.7.12"
  }
 },
 "nbformat": 4,
 "nbformat_minor": 5
}
